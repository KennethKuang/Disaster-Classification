{
 "cells": [
  {
   "cell_type": "markdown",
   "id": "0128ee80",
   "metadata": {},
   "source": [
    "# 2. Data Preprocessing"
   ]
  },
  {
   "cell_type": "code",
   "execution_count": 1,
   "id": "f22d9417",
   "metadata": {},
   "outputs": [
    {
     "data": {
      "text/html": [
       "<div>\n",
       "<style scoped>\n",
       "    .dataframe tbody tr th:only-of-type {\n",
       "        vertical-align: middle;\n",
       "    }\n",
       "\n",
       "    .dataframe tbody tr th {\n",
       "        vertical-align: top;\n",
       "    }\n",
       "\n",
       "    .dataframe thead th {\n",
       "        text-align: right;\n",
       "    }\n",
       "</style>\n",
       "<table border=\"1\" class=\"dataframe\">\n",
       "  <thead>\n",
       "    <tr style=\"text-align: right;\">\n",
       "      <th></th>\n",
       "      <th>index</th>\n",
       "      <th>_unit_id</th>\n",
       "      <th>_golden</th>\n",
       "      <th>_unit_state</th>\n",
       "      <th>_trusted_judgments</th>\n",
       "      <th>_last_judgment_at</th>\n",
       "      <th>choose_one</th>\n",
       "      <th>choose_one:confidence</th>\n",
       "      <th>choose_one_gold</th>\n",
       "      <th>keyword</th>\n",
       "      <th>location</th>\n",
       "      <th>text</th>\n",
       "      <th>tweetid</th>\n",
       "      <th>userid</th>\n",
       "    </tr>\n",
       "  </thead>\n",
       "  <tbody>\n",
       "    <tr>\n",
       "      <th>0</th>\n",
       "      <td>0</td>\n",
       "      <td>778243823</td>\n",
       "      <td>True</td>\n",
       "      <td>golden</td>\n",
       "      <td>156</td>\n",
       "      <td>NaN</td>\n",
       "      <td>Relevant</td>\n",
       "      <td>1.0000</td>\n",
       "      <td>Relevant</td>\n",
       "      <td>NaN</td>\n",
       "      <td>NaN</td>\n",
       "      <td>Just happened a terrible car crash</td>\n",
       "      <td>1.0</td>\n",
       "      <td>NaN</td>\n",
       "    </tr>\n",
       "    <tr>\n",
       "      <th>1</th>\n",
       "      <td>1</td>\n",
       "      <td>778243824</td>\n",
       "      <td>True</td>\n",
       "      <td>golden</td>\n",
       "      <td>152</td>\n",
       "      <td>NaN</td>\n",
       "      <td>Relevant</td>\n",
       "      <td>1.0000</td>\n",
       "      <td>Relevant</td>\n",
       "      <td>NaN</td>\n",
       "      <td>NaN</td>\n",
       "      <td>Our Deeds are the Reason of this #earthquake M...</td>\n",
       "      <td>13.0</td>\n",
       "      <td>NaN</td>\n",
       "    </tr>\n",
       "    <tr>\n",
       "      <th>2</th>\n",
       "      <td>2</td>\n",
       "      <td>778243825</td>\n",
       "      <td>True</td>\n",
       "      <td>golden</td>\n",
       "      <td>137</td>\n",
       "      <td>NaN</td>\n",
       "      <td>Relevant</td>\n",
       "      <td>1.0000</td>\n",
       "      <td>Relevant</td>\n",
       "      <td>NaN</td>\n",
       "      <td>NaN</td>\n",
       "      <td>Heard about #earthquake is different cities, s...</td>\n",
       "      <td>14.0</td>\n",
       "      <td>NaN</td>\n",
       "    </tr>\n",
       "    <tr>\n",
       "      <th>3</th>\n",
       "      <td>3</td>\n",
       "      <td>778243826</td>\n",
       "      <td>True</td>\n",
       "      <td>golden</td>\n",
       "      <td>136</td>\n",
       "      <td>NaN</td>\n",
       "      <td>Relevant</td>\n",
       "      <td>0.9603</td>\n",
       "      <td>Relevant</td>\n",
       "      <td>NaN</td>\n",
       "      <td>NaN</td>\n",
       "      <td>there is a forest fire at spot pond, geese are...</td>\n",
       "      <td>15.0</td>\n",
       "      <td>NaN</td>\n",
       "    </tr>\n",
       "    <tr>\n",
       "      <th>4</th>\n",
       "      <td>4</td>\n",
       "      <td>778243827</td>\n",
       "      <td>True</td>\n",
       "      <td>golden</td>\n",
       "      <td>138</td>\n",
       "      <td>NaN</td>\n",
       "      <td>Relevant</td>\n",
       "      <td>1.0000</td>\n",
       "      <td>Relevant</td>\n",
       "      <td>NaN</td>\n",
       "      <td>NaN</td>\n",
       "      <td>Forest fire near La Ronge Sask. Canada</td>\n",
       "      <td>16.0</td>\n",
       "      <td>NaN</td>\n",
       "    </tr>\n",
       "    <tr>\n",
       "      <th>...</th>\n",
       "      <td>...</td>\n",
       "      <td>...</td>\n",
       "      <td>...</td>\n",
       "      <td>...</td>\n",
       "      <td>...</td>\n",
       "      <td>...</td>\n",
       "      <td>...</td>\n",
       "      <td>...</td>\n",
       "      <td>...</td>\n",
       "      <td>...</td>\n",
       "      <td>...</td>\n",
       "      <td>...</td>\n",
       "      <td>...</td>\n",
       "      <td>...</td>\n",
       "    </tr>\n",
       "    <tr>\n",
       "      <th>10871</th>\n",
       "      <td>10871</td>\n",
       "      <td>778261105</td>\n",
       "      <td>True</td>\n",
       "      <td>golden</td>\n",
       "      <td>100</td>\n",
       "      <td>NaN</td>\n",
       "      <td>Relevant</td>\n",
       "      <td>0.7629</td>\n",
       "      <td>Relevant</td>\n",
       "      <td>NaN</td>\n",
       "      <td>NaN</td>\n",
       "      <td>M1.94 [01:04 UTC]?5km S of Volcano Hawaii. htt...</td>\n",
       "      <td>5675678.0</td>\n",
       "      <td>NaN</td>\n",
       "    </tr>\n",
       "    <tr>\n",
       "      <th>10872</th>\n",
       "      <td>10872</td>\n",
       "      <td>778261106</td>\n",
       "      <td>True</td>\n",
       "      <td>golden</td>\n",
       "      <td>90</td>\n",
       "      <td>NaN</td>\n",
       "      <td>Relevant</td>\n",
       "      <td>0.9203</td>\n",
       "      <td>Relevant</td>\n",
       "      <td>NaN</td>\n",
       "      <td>NaN</td>\n",
       "      <td>Police investigating after an e-bike collided ...</td>\n",
       "      <td>4234.0</td>\n",
       "      <td>NaN</td>\n",
       "    </tr>\n",
       "    <tr>\n",
       "      <th>10873</th>\n",
       "      <td>10873</td>\n",
       "      <td>778261107</td>\n",
       "      <td>True</td>\n",
       "      <td>golden</td>\n",
       "      <td>102</td>\n",
       "      <td>NaN</td>\n",
       "      <td>Relevant</td>\n",
       "      <td>1.0000</td>\n",
       "      <td>Relevant</td>\n",
       "      <td>NaN</td>\n",
       "      <td>NaN</td>\n",
       "      <td>The Latest: More Homes Razed by Northern Calif...</td>\n",
       "      <td>3242.0</td>\n",
       "      <td>NaN</td>\n",
       "    </tr>\n",
       "    <tr>\n",
       "      <th>10874</th>\n",
       "      <td>10874</td>\n",
       "      <td>778261108</td>\n",
       "      <td>True</td>\n",
       "      <td>golden</td>\n",
       "      <td>96</td>\n",
       "      <td>NaN</td>\n",
       "      <td>Relevant</td>\n",
       "      <td>0.8419</td>\n",
       "      <td>Relevant</td>\n",
       "      <td>NaN</td>\n",
       "      <td>NaN</td>\n",
       "      <td>MEG issues Hazardous Weather Outlook (HWO) htt...</td>\n",
       "      <td>457.0</td>\n",
       "      <td>NaN</td>\n",
       "    </tr>\n",
       "    <tr>\n",
       "      <th>10875</th>\n",
       "      <td>10875</td>\n",
       "      <td>778261109</td>\n",
       "      <td>True</td>\n",
       "      <td>golden</td>\n",
       "      <td>97</td>\n",
       "      <td>NaN</td>\n",
       "      <td>Relevant</td>\n",
       "      <td>0.8812</td>\n",
       "      <td>Relevant</td>\n",
       "      <td>NaN</td>\n",
       "      <td>NaN</td>\n",
       "      <td>#CityofCalgary has activated its Municipal Eme...</td>\n",
       "      <td>6585.0</td>\n",
       "      <td>NaN</td>\n",
       "    </tr>\n",
       "  </tbody>\n",
       "</table>\n",
       "<p>10876 rows × 14 columns</p>\n",
       "</div>"
      ],
      "text/plain": [
       "       index   _unit_id  _golden _unit_state  _trusted_judgments  \\\n",
       "0          0  778243823     True      golden                 156   \n",
       "1          1  778243824     True      golden                 152   \n",
       "2          2  778243825     True      golden                 137   \n",
       "3          3  778243826     True      golden                 136   \n",
       "4          4  778243827     True      golden                 138   \n",
       "...      ...        ...      ...         ...                 ...   \n",
       "10871  10871  778261105     True      golden                 100   \n",
       "10872  10872  778261106     True      golden                  90   \n",
       "10873  10873  778261107     True      golden                 102   \n",
       "10874  10874  778261108     True      golden                  96   \n",
       "10875  10875  778261109     True      golden                  97   \n",
       "\n",
       "      _last_judgment_at choose_one  choose_one:confidence choose_one_gold  \\\n",
       "0                   NaN   Relevant                 1.0000        Relevant   \n",
       "1                   NaN   Relevant                 1.0000        Relevant   \n",
       "2                   NaN   Relevant                 1.0000        Relevant   \n",
       "3                   NaN   Relevant                 0.9603        Relevant   \n",
       "4                   NaN   Relevant                 1.0000        Relevant   \n",
       "...                 ...        ...                    ...             ...   \n",
       "10871               NaN   Relevant                 0.7629        Relevant   \n",
       "10872               NaN   Relevant                 0.9203        Relevant   \n",
       "10873               NaN   Relevant                 1.0000        Relevant   \n",
       "10874               NaN   Relevant                 0.8419        Relevant   \n",
       "10875               NaN   Relevant                 0.8812        Relevant   \n",
       "\n",
       "      keyword location                                               text  \\\n",
       "0         NaN      NaN                 Just happened a terrible car crash   \n",
       "1         NaN      NaN  Our Deeds are the Reason of this #earthquake M...   \n",
       "2         NaN      NaN  Heard about #earthquake is different cities, s...   \n",
       "3         NaN      NaN  there is a forest fire at spot pond, geese are...   \n",
       "4         NaN      NaN             Forest fire near La Ronge Sask. Canada   \n",
       "...       ...      ...                                                ...   \n",
       "10871     NaN      NaN  M1.94 [01:04 UTC]?5km S of Volcano Hawaii. htt...   \n",
       "10872     NaN      NaN  Police investigating after an e-bike collided ...   \n",
       "10873     NaN      NaN  The Latest: More Homes Razed by Northern Calif...   \n",
       "10874     NaN      NaN  MEG issues Hazardous Weather Outlook (HWO) htt...   \n",
       "10875     NaN      NaN  #CityofCalgary has activated its Municipal Eme...   \n",
       "\n",
       "         tweetid  userid  \n",
       "0            1.0     NaN  \n",
       "1           13.0     NaN  \n",
       "2           14.0     NaN  \n",
       "3           15.0     NaN  \n",
       "4           16.0     NaN  \n",
       "...          ...     ...  \n",
       "10871  5675678.0     NaN  \n",
       "10872     4234.0     NaN  \n",
       "10873     3242.0     NaN  \n",
       "10874      457.0     NaN  \n",
       "10875     6585.0     NaN  \n",
       "\n",
       "[10876 rows x 14 columns]"
      ]
     },
     "execution_count": 1,
     "metadata": {},
     "output_type": "execute_result"
    }
   ],
   "source": [
    "import numpy as np\n",
    "import pandas as pd\n",
    "import matplotlib.pyplot as plt\n",
    "import seaborn as sns\n",
    "\n",
    "dataset = pd.read_csv('socialmedia-disaster-tweets.csv', index_col=False, header=0)\n",
    "\n",
    "dataset"
   ]
  },
  {
   "cell_type": "code",
   "execution_count": 2,
   "id": "e3973e0e",
   "metadata": {},
   "outputs": [
    {
     "name": "stdout",
     "output_type": "stream",
     "text": [
      "                       Empty Cells\n",
      "index                            0\n",
      "_unit_id                         0\n",
      "_golden                          0\n",
      "_unit_state                      0\n",
      "_trusted_judgments               0\n",
      "_last_judgment_at               84\n",
      "choose_one                       0\n",
      "choose_one:confidence            0\n",
      "choose_one_gold              10789\n",
      "keyword                         87\n",
      "location                      3638\n",
      "text                             0\n",
      "tweetid                          0\n",
      "userid                          87\n",
      "The shape of dataset: (10876, 14)\n"
     ]
    }
   ],
   "source": [
    "missing_data = dataset.isnull().sum().to_frame()\n",
    "missing_data = missing_data.rename(columns={0:'Empty Cells'})\n",
    "\n",
    "print(missing_data)\n",
    "print(\"The shape of dataset:\", dataset.shape)"
   ]
  },
  {
   "cell_type": "markdown",
   "id": "8e61e879",
   "metadata": {},
   "source": [
    "## 2.1 Delections of Lines"
   ]
  },
  {
   "cell_type": "code",
   "execution_count": 3,
   "id": "60d3e361",
   "metadata": {},
   "outputs": [
    {
     "name": "stdout",
     "output_type": "stream",
     "text": [
      "                       Empty Cells\n",
      "index                            0\n",
      "_unit_id                         0\n",
      "_golden                          0\n",
      "_unit_state                      0\n",
      "_trusted_judgments               0\n",
      "_last_judgment_at                0\n",
      "choose_one                       0\n",
      "choose_one:confidence            0\n",
      "choose_one_gold              10789\n",
      "keyword                          0\n",
      "location                      3551\n",
      "text                             0\n",
      "tweetid                          0\n",
      "userid                           0\n",
      "The shape of dataset: (10789, 14)\n"
     ]
    }
   ],
   "source": [
    "dataset = dataset.dropna(subset=[\"keyword\"])\n",
    "\n",
    "missing_data = dataset.isnull().sum().to_frame()\n",
    "missing_data = missing_data.rename(columns={0:'Empty Cells'})\n",
    "\n",
    "print(missing_data)\n",
    "print(\"The shape of dataset:\", dataset.shape)"
   ]
  },
  {
   "cell_type": "code",
   "execution_count": 4,
   "id": "b9db6aed",
   "metadata": {},
   "outputs": [
    {
     "name": "stdout",
     "output_type": "stream",
     "text": [
      "The shape of dataset: (4993, 14)\n"
     ]
    }
   ],
   "source": [
    "dataset = dataset[dataset[\"choose_one:confidence\"] >= 0.9]\n",
    "\n",
    "print(\"The shape of dataset:\", dataset.shape)"
   ]
  },
  {
   "cell_type": "markdown",
   "id": "39066a20",
   "metadata": {},
   "source": [
    "## 2.2 Additions of Columns"
   ]
  },
  {
   "cell_type": "markdown",
   "id": "206eb736",
   "metadata": {},
   "source": [
    "### cleaned_text"
   ]
  },
  {
   "cell_type": "code",
   "execution_count": 5,
   "id": "3286b764",
   "metadata": {},
   "outputs": [
    {
     "name": "stdout",
     "output_type": "stream",
     "text": [
      "Functions completed.\n"
     ]
    }
   ],
   "source": [
    "from nltk.stem import WordNetLemmatizer\n",
    "\n",
    "lemmatizer = WordNetLemmatizer()\n",
    "\n",
    "def clean_text(text):\n",
    "    changed_text = \"\"\n",
    "    for letter in text:\n",
    "        if (letter.isalpha() or letter.isnumeric() or letter.isspace()):\n",
    "            \"\".join(letter)\n",
    "            letter = letter.lower()\n",
    "            changed_text = changed_text + letter\n",
    "    return changed_text\n",
    "\n",
    "def lemmatize_word(text):\n",
    "    changed_text = \"\"\n",
    "    for word in text.split(\" \"):\n",
    "        word = lemmatizer.lemmatize(word, pos=\"v\")\n",
    "        changed_text = changed_text + word + \" \"\n",
    "    return changed_text\n",
    "\n",
    "print(\"Functions completed.\")"
   ]
  },
  {
   "cell_type": "code",
   "execution_count": 6,
   "id": "3de8ce93",
   "metadata": {},
   "outputs": [
    {
     "name": "stdout",
     "output_type": "stream",
     "text": [
      "46       birmingham wholesale market is ablaze bbc news...\n",
      "47       sunkxssedharry will you wear shorts for race a...\n",
      "49       we always try to bring the heavy metal rt http...\n",
      "51       previouslyondoyintv toke makinwaûªs marriage c...\n",
      "52                       crying out for more set me ablaze\n",
      "                               ...                        \n",
      "10821    cramer igers 3 words that wrecked disneys stoc...\n",
      "10825    cramer 3 words that wrecked dis stock  httptco...\n",
      "10827         he just wrecked all of you httptcoy46isyzkc8\n",
      "10828                       wrecked today got my hattrick \n",
      "10832    fx forex trading cramer igers 3 words that wre...\n",
      "Name: cleaned_text, Length: 4993, dtype: object\n"
     ]
    }
   ],
   "source": [
    "cleaned_text = []\n",
    "\n",
    "for text in dataset[\"text\"]:\n",
    "    text_1 = clean_text(text)\n",
    "    cleaned_text.append(text_1)\n",
    "    \n",
    "dataset[\"cleaned_text\"] = cleaned_text\n",
    "\n",
    "print(dataset[\"cleaned_text\"])"
   ]
  },
  {
   "cell_type": "code",
   "execution_count": 7,
   "id": "9f45b438",
   "metadata": {},
   "outputs": [
    {
     "name": "stdout",
     "output_type": "stream",
     "text": [
      "46       birmingham wholesale market be ablaze bbc news...\n",
      "47       sunkxssedharry will you wear short for race ab...\n",
      "49       we always try to bring the heavy metal rt http...\n",
      "51       previouslyondoyintv toke makinwaûªs marriage c...\n",
      "52                         cry out for more set me ablaze \n",
      "                               ...                        \n",
      "10821    cramer igers 3 word that wreck disneys stock h...\n",
      "10825    cramer 3 word that wreck dis stock  httptcoud7...\n",
      "10827          he just wreck all of you httptcoy46isyzkc8 \n",
      "10828                        wreck today get my hattrick  \n",
      "10832    fx forex trade cramer igers 3 word that wreck ...\n",
      "Name: cleaned_text, Length: 4993, dtype: object\n"
     ]
    }
   ],
   "source": [
    "lemmatized_text = []\n",
    "\n",
    "for text in dataset[\"cleaned_text\"]:\n",
    "    text_2 = lemmatize_word(text)\n",
    "    lemmatized_text.append(text_2)\n",
    "\n",
    "dataset[\"cleaned_text\"] = lemmatized_text\n",
    "\n",
    "print(dataset[\"cleaned_text\"])"
   ]
  },
  {
   "cell_type": "markdown",
   "id": "df0e350f",
   "metadata": {},
   "source": [
    "### is_disaster"
   ]
  },
  {
   "cell_type": "code",
   "execution_count": 8,
   "id": "2ede8389",
   "metadata": {},
   "outputs": [
    {
     "name": "stdout",
     "output_type": "stream",
     "text": [
      "46        True\n",
      "47       False\n",
      "49       False\n",
      "51       False\n",
      "52       False\n",
      "         ...  \n",
      "10821    False\n",
      "10825    False\n",
      "10827    False\n",
      "10828    False\n",
      "10832    False\n",
      "Name: is_disaster, Length: 4993, dtype: object\n"
     ]
    }
   ],
   "source": [
    "is_disaster = []\n",
    "\n",
    "for value in dataset[\"choose_one\"]:\n",
    "    if value == \"Relevant\":\n",
    "        is_disaster.append(\"True\")\n",
    "    elif value == \"Not Relevant\":\n",
    "        is_disaster.append(\"False\")\n",
    "    else:\n",
    "        is_disaster.append(\"Not Sure\")\n",
    "        \n",
    "dataset[\"is_disaster\"] = is_disaster\n",
    "\n",
    "print(dataset[\"is_disaster\"])"
   ]
  },
  {
   "cell_type": "markdown",
   "id": "8b926c96",
   "metadata": {},
   "source": [
    "### disaster_type"
   ]
  },
  {
   "cell_type": "code",
   "execution_count": 9,
   "id": "b03c5516",
   "metadata": {
    "scrolled": false
   },
   "outputs": [
    {
     "name": "stdout",
     "output_type": "stream",
     "text": [
      "['ablaze' 'accident' 'aftershock' 'airplane accident' 'ambulance'\n",
      " 'annihilated' 'annihilation' 'apocalypse' 'armageddon' 'army' 'arson'\n",
      " 'arsonist' 'attack' 'attacked' 'avalanche' 'battle' 'bioterror'\n",
      " 'bioterrorism' 'blaze' 'blazing' 'bleeding' 'blew up' 'blight' 'blizzard'\n",
      " 'blood' 'bloody' 'blown up' 'body bag' 'body bagging' 'body bags' 'bomb'\n",
      " 'bombed' 'bombing' 'bridge collapse' 'buildings burning'\n",
      " 'buildings on fire' 'burned' 'burning' 'burning buildings' 'bush fires'\n",
      " 'casualties' 'casualty' 'catastrophe' 'catastrophic' 'chemical emergency'\n",
      " 'cliff fall' 'collapse' 'collapsed' 'collide' 'collided' 'collision'\n",
      " 'crash' 'crashed' 'crush' 'crushed' 'curfew' 'cyclone' 'damage' 'danger'\n",
      " 'dead' 'death' 'deaths' 'debris' 'deluge' 'deluged' 'demolish'\n",
      " 'demolished' 'demolition' 'derail' 'derailed' 'derailment' 'desolate'\n",
      " 'desolation' 'destroy' 'destroyed' 'destruction' 'detonate' 'detonation'\n",
      " 'devastated' 'devastation' 'disaster' 'displaced' 'drought' 'drown'\n",
      " 'drowned' 'drowning' 'dust storm' 'earthquake' 'electrocute'\n",
      " 'electrocuted' 'emergency' 'emergency plan' 'emergency services'\n",
      " 'engulfed' 'epicentre' 'evacuate' 'evacuated' 'evacuation' 'explode'\n",
      " 'exploded' 'explosion' 'eyewitness' 'famine' 'fatal' 'fatalities'\n",
      " 'fatality' 'fear' 'fire' 'fire truck' 'first responders' 'flames'\n",
      " 'flattened' 'flood' 'flooding' 'floods' 'forest fire' 'forest fires'\n",
      " 'hail' 'hailstorm' 'harm' 'hazard' 'hazardous' 'heat wave' 'hellfire'\n",
      " 'hijack' 'hijacker' 'hijacking' 'hostage' 'hostages' 'hurricane'\n",
      " 'injured' 'injuries' 'injury' 'inundated' 'inundation' 'landslide' 'lava'\n",
      " 'lightning' 'loud bang' 'mass murder' 'mass murderer' 'massacre' 'mayhem'\n",
      " 'meltdown' 'military' 'mudslide' 'natural disaster' 'nuclear disaster'\n",
      " 'nuclear reactor' 'obliterate' 'obliterated' 'obliteration' 'oil spill'\n",
      " 'outbreak' 'pandemonium' 'panic' 'panicking' 'police' 'quarantine'\n",
      " 'quarantined' 'radiation emergency' 'rainstorm' 'razed' 'refugees'\n",
      " 'rescue' 'rescued' 'rescuers' 'riot' 'rioting' 'rubble' 'ruin'\n",
      " 'sandstorm' 'screamed' 'screaming' 'screams' 'seismic' 'sinkhole'\n",
      " 'sinking' 'siren' 'sirens' 'smoke' 'snowstorm' 'storm' 'stretcher'\n",
      " 'structural failure' 'suicide bomb' 'suicide bomber' 'suicide bombing'\n",
      " 'sunk' 'survive' 'survived' 'survivors' 'terrorism' 'terrorist' 'threat'\n",
      " 'thunder' 'thunderstorm' 'tornado' 'tragedy' 'trapped' 'trauma'\n",
      " 'traumatised' 'trouble' 'tsunami' 'twister' 'typhoon' 'upheaval'\n",
      " 'violent storm' 'volcano' 'war zone' 'weapon' 'weapons' 'whirlwind'\n",
      " 'wild fires' 'wildfire' 'windstorm' 'wounded' 'wounds' 'wreck' 'wreckage'\n",
      " 'wrecked']\n",
      "The number of unique keyword: 221\n"
     ]
    }
   ],
   "source": [
    "dataset[\"keyword\"] = dataset[\"keyword\"].str.replace(\"%20\", \" \")\n",
    "\n",
    "print(dataset[\"keyword\"].unique())\n",
    "print(\"The number of unique keyword:\", len(dataset[\"keyword\"].unique()))"
   ]
  },
  {
   "cell_type": "code",
   "execution_count": 10,
   "id": "1338c183",
   "metadata": {},
   "outputs": [
    {
     "data": {
      "text/html": [
       "<div>\n",
       "<style scoped>\n",
       "    .dataframe tbody tr th:only-of-type {\n",
       "        vertical-align: middle;\n",
       "    }\n",
       "\n",
       "    .dataframe tbody tr th {\n",
       "        vertical-align: top;\n",
       "    }\n",
       "\n",
       "    .dataframe thead th {\n",
       "        text-align: right;\n",
       "    }\n",
       "</style>\n",
       "<table border=\"1\" class=\"dataframe\">\n",
       "  <thead>\n",
       "    <tr style=\"text-align: right;\">\n",
       "      <th></th>\n",
       "      <th>keyword</th>\n",
       "      <th>cleaned_keyword</th>\n",
       "      <th>disaster_type</th>\n",
       "    </tr>\n",
       "  </thead>\n",
       "  <tbody>\n",
       "    <tr>\n",
       "      <th>0</th>\n",
       "      <td>ablaze</td>\n",
       "      <td>blaze</td>\n",
       "      <td>fire</td>\n",
       "    </tr>\n",
       "    <tr>\n",
       "      <th>1</th>\n",
       "      <td>accident</td>\n",
       "      <td>accident</td>\n",
       "      <td>accident</td>\n",
       "    </tr>\n",
       "    <tr>\n",
       "      <th>2</th>\n",
       "      <td>aftershock</td>\n",
       "      <td>aftershock</td>\n",
       "      <td>earthquake</td>\n",
       "    </tr>\n",
       "    <tr>\n",
       "      <th>3</th>\n",
       "      <td>airplane accident</td>\n",
       "      <td>airplane accident</td>\n",
       "      <td>accident</td>\n",
       "    </tr>\n",
       "    <tr>\n",
       "      <th>4</th>\n",
       "      <td>ambulance</td>\n",
       "      <td>ambulance</td>\n",
       "      <td>accident</td>\n",
       "    </tr>\n",
       "    <tr>\n",
       "      <th>...</th>\n",
       "      <td>...</td>\n",
       "      <td>...</td>\n",
       "      <td>...</td>\n",
       "    </tr>\n",
       "    <tr>\n",
       "      <th>216</th>\n",
       "      <td>wounded</td>\n",
       "      <td>wound</td>\n",
       "      <td>man-made disaster</td>\n",
       "    </tr>\n",
       "    <tr>\n",
       "      <th>217</th>\n",
       "      <td>wounds</td>\n",
       "      <td>wound</td>\n",
       "      <td>man-made disaster</td>\n",
       "    </tr>\n",
       "    <tr>\n",
       "      <th>218</th>\n",
       "      <td>wreck</td>\n",
       "      <td>wreck</td>\n",
       "      <td>accident</td>\n",
       "    </tr>\n",
       "    <tr>\n",
       "      <th>219</th>\n",
       "      <td>wreckage</td>\n",
       "      <td>wreck</td>\n",
       "      <td>accident</td>\n",
       "    </tr>\n",
       "    <tr>\n",
       "      <th>220</th>\n",
       "      <td>wrecked</td>\n",
       "      <td>wreck</td>\n",
       "      <td>accident</td>\n",
       "    </tr>\n",
       "  </tbody>\n",
       "</table>\n",
       "<p>221 rows × 3 columns</p>\n",
       "</div>"
      ],
      "text/plain": [
       "               keyword    cleaned_keyword      disaster_type\n",
       "0               ablaze              blaze               fire\n",
       "1             accident           accident           accident\n",
       "2           aftershock         aftershock         earthquake\n",
       "3    airplane accident  airplane accident           accident\n",
       "4            ambulance          ambulance           accident\n",
       "..                 ...                ...                ...\n",
       "216            wounded              wound  man-made disaster\n",
       "217             wounds              wound  man-made disaster\n",
       "218              wreck              wreck           accident\n",
       "219           wreckage              wreck           accident\n",
       "220            wrecked              wreck           accident\n",
       "\n",
       "[221 rows x 3 columns]"
      ]
     },
     "execution_count": 10,
     "metadata": {},
     "output_type": "execute_result"
    }
   ],
   "source": [
    "dataset_disaster = pd.read_excel('disaster_classification.xlsx', header=0)\n",
    "\n",
    "dataset_disaster"
   ]
  },
  {
   "cell_type": "code",
   "execution_count": 11,
   "id": "1fb9531d",
   "metadata": {},
   "outputs": [
    {
     "name": "stdout",
     "output_type": "stream",
     "text": [
      "['fire' 'accident' 'earthquake' 'general disaster' 'man-made disaster'\n",
      " 'crime' 'mass movement' 'storm' 'flood' 'drought' 'famine' 'hail'\n",
      " 'extreme temperature' 'volcano' 'tsunami']\n",
      "The number of unique keyword: 15\n"
     ]
    }
   ],
   "source": [
    "dataset[\"disaster_type\"] = dataset[\"keyword\"].replace(dataset_disaster[\"keyword\"].to_list(), dataset_disaster[\"disaster_type\"].to_list())\n",
    "\n",
    "print(dataset[\"disaster_type\"].unique())\n",
    "print(\"The number of unique keyword:\", len(dataset[\"disaster_type\"].unique()))"
   ]
  },
  {
   "cell_type": "markdown",
   "id": "f545e4f0",
   "metadata": {},
   "source": [
    "## 2.3 Data Augmentation"
   ]
  },
  {
   "cell_type": "code",
   "execution_count": 12,
   "id": "11eeafc6",
   "metadata": {},
   "outputs": [
    {
     "name": "stdout",
     "output_type": "stream",
     "text": [
      "general disaster       1653\n",
      "accident                927\n",
      "man-made disaster       619\n",
      "crime                   510\n",
      "storm                   427\n",
      "fire                    401\n",
      "flood                   128\n",
      "mass movement            86\n",
      "earthquake               83\n",
      "volcano                  52\n",
      "hail                     27\n",
      "drought                  22\n",
      "extreme temperature      21\n",
      "famine                   19\n",
      "tsunami                  18\n",
      "Name: disaster_type, dtype: int64\n"
     ]
    }
   ],
   "source": [
    "print(dataset[\"disaster_type\"].value_counts())"
   ]
  },
  {
   "cell_type": "code",
   "execution_count": 13,
   "id": "fce37ad4",
   "metadata": {},
   "outputs": [
    {
     "data": {
      "text/plain": [
       "<Axes: xlabel='disaster_type'>"
      ]
     },
     "execution_count": 13,
     "metadata": {},
     "output_type": "execute_result"
    },
    {
     "data": {
      "image/png": "[encoded data removed]",
      "text/plain": [
       "<Figure size 640x480 with 1 Axes>"
      ]
     },
     "metadata": {},
     "output_type": "display_data"
    }
   ],
   "source": [
    "disaster_type = dataset[\"disaster_type\"].value_counts()\n",
    "\n",
    "sns.barplot(x=disaster_type, y=disaster_type.index)"
   ]
  },
  {
   "cell_type": "code",
   "execution_count": 14,
   "id": "24a6da9b",
   "metadata": {},
   "outputs": [
    {
     "name": "stdout",
     "output_type": "stream",
     "text": [
      "Functions completed.\n"
     ]
    }
   ],
   "source": [
    "from textaugment import EDA\n",
    "\n",
    "eda_augment = EDA()\n",
    "\n",
    "def synonym_replace_augment(text):\n",
    "    augmented_text = eda_augment.synonym_replacement(text)\n",
    "    return augmented_text\n",
    "\n",
    "def random_delete_augment(text):\n",
    "    augmented_text = eda_augment.random_deletion(text)\n",
    "    return augmented_text\n",
    "\n",
    "def random_swap_augment(text):\n",
    "    augmented_text = eda_augment.random_swap(text)\n",
    "    return augmented_text\n",
    "\n",
    "def random_insert_augment(text):\n",
    "    augmented_text = eda_augment.random_insertion(text)\n",
    "    return augmented_text\n",
    "\n",
    "def data_augment(dataset, disaster_list):\n",
    "    augmented_dataset = pd.DataFrame()\n",
    "    for index, row in dataset.iterrows():\n",
    "        if row[\"disaster_type\"] in disaster_list:\n",
    "            augmented_text_1 = synonym_replace_augment(row[\"cleaned_text\"])\n",
    "            augmented_text_2 = random_delete_augment(row[\"cleaned_text\"])\n",
    "            augmented_text_3 = random_swap_augment(row[\"cleaned_text\"])\n",
    "            augmented_text_4 = random_insert_augment(row[\"cleaned_text\"])\n",
    "            df = pd.DataFrame({\"cleaned_text\":[augmented_text_1, augmented_text_2, augmented_text_3, augmented_text_4], \n",
    "                              \"is_disaster\":[row[\"is_disaster\"], row[\"is_disaster\"], row[\"is_disaster\"], row[\"is_disaster\"]],\n",
    "                              \"disaster_type\":[row[\"disaster_type\"], row[\"disaster_type\"], row[\"disaster_type\"], row[\"disaster_type\"]]})\n",
    "            augmented_dataset = pd.concat([augmented_dataset, df])\n",
    "            \n",
    "    return augmented_dataset\n",
    "\n",
    "print(\"Functions completed.\")\n",
    "#text = \"The quick brown fox jumps over the lazy dog.\"\n",
    "#print(synonym_replace_augment(text))\n",
    "#print(random_delete_augment(text))\n",
    "#print(random_swap_augment(text))\n",
    "#print(random_insert_augment(text))"
   ]
  },
  {
   "cell_type": "code",
   "execution_count": 15,
   "id": "937214d4",
   "metadata": {
    "scrolled": true
   },
   "outputs": [
    {
     "name": "stdout",
     "output_type": "stream",
     "text": [
      "general disaster       1653\n",
      "accident                927\n",
      "man-made disaster       619\n",
      "crime                   510\n",
      "mass movement           430\n",
      "storm                   427\n",
      "earthquake              415\n",
      "fire                    401\n",
      "volcano                 260\n",
      "hail                    135\n",
      "flood                   128\n",
      "drought                 110\n",
      "extreme temperature     105\n",
      "famine                   95\n",
      "tsunami                  90\n",
      "Name: disaster_type, dtype: int64\n"
     ]
    }
   ],
   "source": [
    "disaster_list_1 = [\"tsunami\", \"famine\", \"extreme temperature\", \"drought\", \"hail\", \"volcano\", \"earthquake\", \"mass movement\"]\n",
    "\n",
    "augmented_dataset = data_augment(dataset, disaster_list_1)\n",
    "\n",
    "dataset = pd.concat([dataset, augmented_dataset])\n",
    "\n",
    "print(dataset[\"disaster_type\"].value_counts())"
   ]
  },
  {
   "cell_type": "markdown",
   "id": "49093544",
   "metadata": {},
   "source": [
    "## 2.4 Final Dataset"
   ]
  },
  {
   "cell_type": "code",
   "execution_count": 16,
   "id": "8d4d1f68",
   "metadata": {},
   "outputs": [
    {
     "data": {
      "text/html": [
       "<div>\n",
       "<style scoped>\n",
       "    .dataframe tbody tr th:only-of-type {\n",
       "        vertical-align: middle;\n",
       "    }\n",
       "\n",
       "    .dataframe tbody tr th {\n",
       "        vertical-align: top;\n",
       "    }\n",
       "\n",
       "    .dataframe thead th {\n",
       "        text-align: right;\n",
       "    }\n",
       "</style>\n",
       "<table border=\"1\" class=\"dataframe\">\n",
       "  <thead>\n",
       "    <tr style=\"text-align: right;\">\n",
       "      <th></th>\n",
       "      <th>cleaned_text</th>\n",
       "      <th>is_disaster</th>\n",
       "      <th>disaster_type</th>\n",
       "    </tr>\n",
       "  </thead>\n",
       "  <tbody>\n",
       "    <tr>\n",
       "      <th>46</th>\n",
       "      <td>birmingham wholesale market be ablaze bbc news...</td>\n",
       "      <td>True</td>\n",
       "      <td>fire</td>\n",
       "    </tr>\n",
       "    <tr>\n",
       "      <th>47</th>\n",
       "      <td>sunkxssedharry will you wear short for race ab...</td>\n",
       "      <td>False</td>\n",
       "      <td>fire</td>\n",
       "    </tr>\n",
       "    <tr>\n",
       "      <th>49</th>\n",
       "      <td>we always try to bring the heavy metal rt http...</td>\n",
       "      <td>False</td>\n",
       "      <td>fire</td>\n",
       "    </tr>\n",
       "    <tr>\n",
       "      <th>51</th>\n",
       "      <td>previouslyondoyintv toke makinwaûªs marriage c...</td>\n",
       "      <td>False</td>\n",
       "      <td>fire</td>\n",
       "    </tr>\n",
       "    <tr>\n",
       "      <th>52</th>\n",
       "      <td>cry out for more set me ablaze</td>\n",
       "      <td>False</td>\n",
       "      <td>fire</td>\n",
       "    </tr>\n",
       "    <tr>\n",
       "      <th>...</th>\n",
       "      <td>...</td>\n",
       "      <td>...</td>\n",
       "      <td>...</td>\n",
       "    </tr>\n",
       "    <tr>\n",
       "      <th>3</th>\n",
       "      <td>the architect tooshie behind kanye westûªs vol...</td>\n",
       "      <td>False</td>\n",
       "      <td>volcano</td>\n",
       "    </tr>\n",
       "    <tr>\n",
       "      <th>0</th>\n",
       "      <td>sismo m  5km s of volcano hawaii time20150806 ...</td>\n",
       "      <td>True</td>\n",
       "      <td>volcano</td>\n",
       "    </tr>\n",
       "    <tr>\n",
       "      <th>1</th>\n",
       "      <td>sismo m 19 5km s of volcano hawaii time2015080...</td>\n",
       "      <td>True</td>\n",
       "      <td>volcano</td>\n",
       "    </tr>\n",
       "    <tr>\n",
       "      <th>2</th>\n",
       "      <td>sismo m 19 5km s of 150401 hawaii time20150806...</td>\n",
       "      <td>True</td>\n",
       "      <td>volcano</td>\n",
       "    </tr>\n",
       "    <tr>\n",
       "      <th>3</th>\n",
       "      <td>sismo m 19 5km s of volcano hawaii time2015080...</td>\n",
       "      <td>True</td>\n",
       "      <td>volcano</td>\n",
       "    </tr>\n",
       "  </tbody>\n",
       "</table>\n",
       "<p>6305 rows × 3 columns</p>\n",
       "</div>"
      ],
      "text/plain": [
       "                                         cleaned_text is_disaster  \\\n",
       "46  birmingham wholesale market be ablaze bbc news...        True   \n",
       "47  sunkxssedharry will you wear short for race ab...       False   \n",
       "49  we always try to bring the heavy metal rt http...       False   \n",
       "51  previouslyondoyintv toke makinwaûªs marriage c...       False   \n",
       "52                    cry out for more set me ablaze        False   \n",
       "..                                                ...         ...   \n",
       "3   the architect tooshie behind kanye westûªs vol...       False   \n",
       "0   sismo m  5km s of volcano hawaii time20150806 ...        True   \n",
       "1   sismo m 19 5km s of volcano hawaii time2015080...        True   \n",
       "2   sismo m 19 5km s of 150401 hawaii time20150806...        True   \n",
       "3   sismo m 19 5km s of volcano hawaii time2015080...        True   \n",
       "\n",
       "   disaster_type  \n",
       "46          fire  \n",
       "47          fire  \n",
       "49          fire  \n",
       "51          fire  \n",
       "52          fire  \n",
       "..           ...  \n",
       "3        volcano  \n",
       "0        volcano  \n",
       "1        volcano  \n",
       "2        volcano  \n",
       "3        volcano  \n",
       "\n",
       "[6305 rows x 3 columns]"
      ]
     },
     "execution_count": 16,
     "metadata": {},
     "output_type": "execute_result"
    }
   ],
   "source": [
    "dataset_final = dataset[[\"cleaned_text\", \"is_disaster\", \"disaster_type\"]]\n",
    "\n",
    "dataset_final"
   ]
  },
  {
   "cell_type": "markdown",
   "id": "37720372",
   "metadata": {},
   "source": [
    "# 3. Model Training"
   ]
  },
  {
   "cell_type": "code",
   "execution_count": 17,
   "id": "9bbdf0b5",
   "metadata": {},
   "outputs": [
    {
     "name": "stdout",
     "output_type": "stream",
     "text": [
      "Train and test sets for Model 1 are splited.\n",
      "Train and test sets for Model 2 are splited.\n"
     ]
    }
   ],
   "source": [
    "from sklearn.pipeline import Pipeline\n",
    "from sklearn.feature_extraction.text import CountVectorizer, TfidfVectorizer\n",
    "from sklearn.naive_bayes import MultinomialNB\n",
    "from sklearn.svm import LinearSVC\n",
    "from sklearn.linear_model import LogisticRegression\n",
    "from sklearn.metrics import classification_report, accuracy_score\n",
    "from sklearn.model_selection import train_test_split, learning_curve\n",
    "from sklearn.model_selection import cross_val_score, RepeatedStratifiedKFold\n",
    "\n",
    "\n",
    "X1 = dataset_final.cleaned_text\n",
    "y1 = dataset_final.is_disaster\n",
    "X1_train, X1_test, y1_train, y1_test = train_test_split(X1, y1, test_size=0.3, random_state=0)\n",
    "\n",
    "print(\"Train and test sets for Model 1 are splited.\")\n",
    "\n",
    "X2 = dataset_final[dataset_final[\"is_disaster\"] == \"True\"].cleaned_text\n",
    "y2 = dataset_final[dataset_final[\"is_disaster\"] == \"True\"].disaster_type\n",
    "X2_train, X2_test, y2_train, y2_test = train_test_split(X2, y2, test_size=0.3, random_state=0)\n",
    "\n",
    "print(\"Train and test sets for Model 2 are splited.\")"
   ]
  },
  {
   "cell_type": "markdown",
   "id": "5e158824",
   "metadata": {},
   "source": [
    "## 3.1 Model 1"
   ]
  },
  {
   "cell_type": "code",
   "execution_count": 18,
   "id": "dc628504",
   "metadata": {},
   "outputs": [
    {
     "name": "stdout",
     "output_type": "stream",
     "text": [
      "accuracy score: 0.927061310782241\n"
     ]
    }
   ],
   "source": [
    "# Naive Bayes\n",
    "\n",
    "nb1 = Pipeline([('tfidf', TfidfVectorizer()), ('clf', MultinomialNB())])\n",
    "\n",
    "nb1.fit(X1_train, y1_train)\n",
    "\n",
    "y1_pred_nb = nb1.predict(X1_test)\n",
    "\n",
    "print('accuracy score:', accuracy_score(y1_pred_nb, y1_test))"
   ]
  },
  {
   "cell_type": "code",
   "execution_count": 19,
   "id": "6c2b1b43",
   "metadata": {},
   "outputs": [
    {
     "name": "stdout",
     "output_type": "stream",
     "text": [
      "accuracy score: 0.943446088794926\n"
     ]
    }
   ],
   "source": [
    "# Support Vector Machine\n",
    "\n",
    "svm1 = Pipeline([('tfidf', TfidfVectorizer()), ('clf', LinearSVC())])\n",
    "\n",
    "svm1.fit(X1_train, y1_train)\n",
    "\n",
    "y1_pred_svm = svm1.predict(X1_test)\n",
    "\n",
    "print('accuracy score:', accuracy_score(y1_pred_svm, y1_test))"
   ]
  },
  {
   "cell_type": "code",
   "execution_count": 20,
   "id": "65acf100",
   "metadata": {},
   "outputs": [
    {
     "name": "stdout",
     "output_type": "stream",
     "text": [
      "accuracy score: 0.9365750528541226\n"
     ]
    }
   ],
   "source": [
    "# Logistic Regression\n",
    "\n",
    "lr1 = Pipeline([('tfidf', TfidfVectorizer()), ('clf', LogisticRegression())])\n",
    "\n",
    "lr1.fit(X1_train, y1_train)\n",
    "\n",
    "y1_pred_lr = lr1.predict(X1_test)\n",
    "\n",
    "print('accuracy score:', accuracy_score(y1_pred_lr, y1_test))"
   ]
  },
  {
   "cell_type": "markdown",
   "id": "474a387c",
   "metadata": {},
   "source": [
    "## 3.2 Model 2"
   ]
  },
  {
   "cell_type": "code",
   "execution_count": 21,
   "id": "d804e6db",
   "metadata": {},
   "outputs": [
    {
     "name": "stdout",
     "output_type": "stream",
     "text": [
      "accuracy score: 0.8088410991636799\n",
      "cross validation score: 0.827820698442115\n"
     ]
    }
   ],
   "source": [
    "# Naive Bayes\n",
    "\n",
    "nb2 = Pipeline([('vect', CountVectorizer()), ('clf', MultinomialNB())])\n",
    "\n",
    "nb2.fit(X2_train, y2_train)\n",
    "\n",
    "y2_pred_nb = nb2.predict(X2_test)\n",
    "\n",
    "print('accuracy score:', accuracy_score(y2_pred_nb, y2_test))\n",
    "\n",
    "cv = RepeatedStratifiedKFold(n_splits=5, n_repeats=5, random_state=0)\n",
    "print('cross validation score:', cross_val_score(nb2, X2, y2, cv=cv).mean())"
   ]
  },
  {
   "cell_type": "code",
   "execution_count": 22,
   "id": "92a069b0",
   "metadata": {},
   "outputs": [
    {
     "name": "stdout",
     "output_type": "stream",
     "text": [
      "accuracy score: 0.8817204301075269\n",
      "cross validation score: 0.8922171386652766\n"
     ]
    }
   ],
   "source": [
    "# Support Vector Machine\n",
    "\n",
    "svm2 = Pipeline([('vect', CountVectorizer()), ('clf', LinearSVC())])\n",
    "\n",
    "svm2.fit(X2_train, y2_train)\n",
    "\n",
    "y2_pred_svm = svm2.predict(X2_test)\n",
    "\n",
    "print('accuracy score:', accuracy_score(y2_pred_svm, y2_test))\n",
    "\n",
    "cv = RepeatedStratifiedKFold(n_splits=5, n_repeats=5, random_state=0)\n",
    "print('cross validation score:', cross_val_score(svm2, X2, y2, cv=cv).mean())"
   ]
  },
  {
   "cell_type": "code",
   "execution_count": 23,
   "id": "8394a83a",
   "metadata": {},
   "outputs": [
    {
     "name": "stdout",
     "output_type": "stream",
     "text": [
      "accuracy score: 0.8673835125448028\n",
      "cross validation score: 0.8798115866489062\n"
     ]
    }
   ],
   "source": [
    "# Logistic Regression\n",
    "\n",
    "lr2 = Pipeline([('vect', CountVectorizer()), ('clf', LogisticRegression())])\n",
    "\n",
    "lr2.fit(X2_train, y2_train)\n",
    "\n",
    "y2_pred_lr = lr2.predict(X2_test)\n",
    "\n",
    "print('accuracy score:', accuracy_score(y2_pred_lr, y2_test))\n",
    "\n",
    "cv = RepeatedStratifiedKFold(n_splits=5, n_repeats=5, random_state=0)\n",
    "print('cross validation score:', cross_val_score(lr2, X2, y2, cv=cv).mean())"
   ]
  },
  {
   "cell_type": "markdown",
   "id": "be2b9ba4",
   "metadata": {},
   "source": [
    "## 3.3 Model Testing"
   ]
  },
  {
   "cell_type": "code",
   "execution_count": 24,
   "id": "1c56f163",
   "metadata": {},
   "outputs": [
    {
     "name": "stdout",
     "output_type": "stream",
     "text": [
      "The tweet is not related to a disaster.\n"
     ]
    }
   ],
   "source": [
    "text = \"My umbrella was broken by the strong wind!\"\n",
    "text = clean_text(text)\n",
    "text = lemmatize_word(text)\n",
    "#print(f\"Preprocessed text: {text}\")\n",
    "\n",
    "df = pd.DataFrame({\"text\":text}, index=[0])\n",
    "\n",
    "true_or_false = svm1.predict(df[\"text\"])\n",
    "disaster_category = svm2.predict(df[\"text\"])\n",
    "\n",
    "if true_or_false[0] == \"True\":\n",
    "    print(\"Disaster category:\", disaster_category[0])\n",
    "elif true_or_false[0] == \"False\":\n",
    "    print(\"The tweet is not related to a disaster.\")\n",
    "else:\n",
    "    print(\"Invalid input.\")"
   ]
  },
  {
   "cell_type": "markdown",
   "id": "1580c613",
   "metadata": {},
   "source": [
    "## 3.4 Pretrained Deep Learning Model"
   ]
  },
  {
   "cell_type": "code",
   "execution_count": 25,
   "id": "e28be6fa",
   "metadata": {},
   "outputs": [
    {
     "name": "stderr",
     "output_type": "stream",
     "text": [
      "2023-12-11 11:25:17.807459: I tensorflow/core/platform/cpu_feature_guard.cc:182] This TensorFlow binary is optimized to use available CPU instructions in performance-critical operations.\n",
      "To enable the following instructions: AVX2 FMA, in other operations, rebuild TensorFlow with the appropriate compiler flags.\n"
     ]
    },
    {
     "name": "stdout",
     "output_type": "stream",
     "text": [
      "labels list:\n",
      "['fire' 'accident' 'earthquake' 'general disaster' 'man-made disaster'\n",
      " 'crime' 'mass movement' 'storm' 'flood' 'drought' 'famine' 'hail'\n",
      " 'extreme temperature' 'volcano' 'tsunami']\n"
     ]
    }
   ],
   "source": [
    "from transformers import pipeline\n",
    "\n",
    "classifier = pipeline(\"zero-shot-classification\", model=\"facebook/bart-large-mnli\")\n",
    "\n",
    "labels = dataset[\"disaster_type\"].unique()\n",
    "\n",
    "print(\"labels list:\")\n",
    "print(labels)"
   ]
  },
  {
   "cell_type": "code",
   "execution_count": 26,
   "id": "7a522e0b",
   "metadata": {},
   "outputs": [
    {
     "name": "stdout",
     "output_type": "stream",
     "text": [
      "Disaster category: storm\n"
     ]
    }
   ],
   "source": [
    "text = \"My umbrella was broken by the strong wind!.\"\n",
    "text = clean_text(text)\n",
    "text = lemmatize_word(text)\n",
    "#print(f\"Preprocessed text: {text}\")\n",
    "\n",
    "result  = classifier(text, labels)\n",
    "print(\"Disaster category:\", result[\"labels\"][0])"
   ]
  },
  {
   "cell_type": "markdown",
   "id": "8101679f",
   "metadata": {},
   "source": [
    "# 4. Model Evaluation"
   ]
  },
  {
   "cell_type": "code",
   "execution_count": 27,
   "id": "d1d0c018",
   "metadata": {},
   "outputs": [
    {
     "data": {
      "text/plain": [
       "(0.8, 1.0)"
      ]
     },
     "execution_count": 27,
     "metadata": {},
     "output_type": "execute_result"
    },
    {
     "data": {
      "image/png": "[encoded data removed]",
      "text/plain": [
       "<Figure size 640x480 with 1 Axes>"
      ]
     },
     "metadata": {},
     "output_type": "display_data"
    }
   ],
   "source": [
    "random_state_dict = {\"random_state\": [0, 1, 2, 3, 4, 5, 6, 7, 8, 9], \n",
    "                     \"accuracy\": [0.8914, 0.8897, 0.8899, 0.8896, 0.8887, 0.8929, 0.8884, 0.8897, 0.8894, 0.8887]}\n",
    "\n",
    "dataset_random_state = pd.DataFrame(random_state_dict)\n",
    "\n",
    "sns.lineplot(x=\"random_state\", y=\"accuracy\", data=dataset_random_state)\n",
    "\n",
    "plt.ylim(0.80, 1.00)"
   ]
  },
  {
   "cell_type": "code",
   "execution_count": 28,
   "id": "1828c6b3",
   "metadata": {},
   "outputs": [
    {
     "data": {
      "text/plain": [
       "(0.8, 1.0)"
      ]
     },
     "execution_count": 28,
     "metadata": {},
     "output_type": "execute_result"
    },
    {
     "data": {
      "image/png": "[encoded data removed]",
      "text/plain": [
       "<Figure size 640x480 with 1 Axes>"
      ]
     },
     "metadata": {},
     "output_type": "display_data"
    }
   ],
   "source": [
    "choose_one_confidence_dict = {\"choose_one_confidence\": [\">=0.6\", \">=0.7\", \">=0.8\", \">=0.9\", \">=1.0\"], \n",
    "                              \"Accuracy of Model 1\": [0.8592, 0.9022, 0.9129, 0.9439, 0.9439],\n",
    "                              \"Accuracy of Model 2\": [0.9137, 0.9085, 0.9049, 0.8917, 0.8917]}\n",
    "\n",
    "dataset_choose_one_confidence = pd.DataFrame(choose_one_confidence_dict)\n",
    "\n",
    "sns.lineplot(data=dataset_choose_one_confidence, x=\"choose_one_confidence\", y=\"Accuracy of Model 1\", label=\"Accuracy of Model 1\")\n",
    "sns.lineplot(data=dataset_choose_one_confidence, x=\"choose_one_confidence\", y=\"Accuracy of Model 2\", label=\"Accuracy of Model 2\")\n",
    "\n",
    "plt.ylim(0.80, 1.00)"
   ]
  },
  {
   "cell_type": "markdown",
   "id": "d0c76fae",
   "metadata": {},
   "source": [
    "## 4.1 Classification Report"
   ]
  },
  {
   "cell_type": "code",
   "execution_count": 29,
   "id": "a727fb29",
   "metadata": {},
   "outputs": [
    {
     "name": "stdout",
     "output_type": "stream",
     "text": [
      "                     precision    recall  f1-score   support\n",
      "\n",
      "           accident       0.85      0.88      0.87       157\n",
      "              crime       0.90      0.92      0.91        96\n",
      "            drought       0.93      1.00      0.96        25\n",
      "         earthquake       0.95      1.00      0.97        39\n",
      "extreme temperature       0.97      1.00      0.98        29\n",
      "             famine       1.00      1.00      1.00        25\n",
      "               fire       0.91      0.96      0.93        72\n",
      "              flood       0.78      0.91      0.84        23\n",
      "   general disaster       0.84      0.71      0.77       136\n",
      "               hail       0.97      1.00      0.98        28\n",
      "  man-made disaster       0.78      0.78      0.78        65\n",
      "      mass movement       1.00      1.00      1.00        36\n",
      "              storm       0.86      0.85      0.86        82\n",
      "            tsunami       0.75      1.00      0.86         3\n",
      "            volcano       0.95      0.90      0.93        21\n",
      "\n",
      "           accuracy                           0.88       837\n",
      "          macro avg       0.90      0.93      0.91       837\n",
      "       weighted avg       0.88      0.88      0.88       837\n",
      "\n"
     ]
    }
   ],
   "source": [
    "print(classification_report(y2_test, y2_pred_svm))"
   ]
  },
  {
   "cell_type": "code",
   "execution_count": 30,
   "id": "81a33c03",
   "metadata": {},
   "outputs": [
    {
     "data": {
      "text/html": [
       "<div>\n",
       "<style scoped>\n",
       "    .dataframe tbody tr th:only-of-type {\n",
       "        vertical-align: middle;\n",
       "    }\n",
       "\n",
       "    .dataframe tbody tr th {\n",
       "        vertical-align: top;\n",
       "    }\n",
       "\n",
       "    .dataframe thead th {\n",
       "        text-align: right;\n",
       "    }\n",
       "</style>\n",
       "<table border=\"1\" class=\"dataframe\">\n",
       "  <thead>\n",
       "    <tr style=\"text-align: right;\">\n",
       "      <th></th>\n",
       "      <th>precision</th>\n",
       "      <th>recall</th>\n",
       "      <th>f1-score</th>\n",
       "    </tr>\n",
       "  </thead>\n",
       "  <tbody>\n",
       "    <tr>\n",
       "      <th>accident</th>\n",
       "      <td>0.851852</td>\n",
       "      <td>0.878981</td>\n",
       "      <td>0.865204</td>\n",
       "    </tr>\n",
       "    <tr>\n",
       "      <th>crime</th>\n",
       "      <td>0.897959</td>\n",
       "      <td>0.916667</td>\n",
       "      <td>0.907216</td>\n",
       "    </tr>\n",
       "    <tr>\n",
       "      <th>drought</th>\n",
       "      <td>0.925926</td>\n",
       "      <td>1.000000</td>\n",
       "      <td>0.961538</td>\n",
       "    </tr>\n",
       "    <tr>\n",
       "      <th>earthquake</th>\n",
       "      <td>0.951220</td>\n",
       "      <td>1.000000</td>\n",
       "      <td>0.975000</td>\n",
       "    </tr>\n",
       "    <tr>\n",
       "      <th>extreme temperature</th>\n",
       "      <td>0.966667</td>\n",
       "      <td>1.000000</td>\n",
       "      <td>0.983051</td>\n",
       "    </tr>\n",
       "    <tr>\n",
       "      <th>famine</th>\n",
       "      <td>1.000000</td>\n",
       "      <td>1.000000</td>\n",
       "      <td>1.000000</td>\n",
       "    </tr>\n",
       "    <tr>\n",
       "      <th>fire</th>\n",
       "      <td>0.907895</td>\n",
       "      <td>0.958333</td>\n",
       "      <td>0.932432</td>\n",
       "    </tr>\n",
       "    <tr>\n",
       "      <th>flood</th>\n",
       "      <td>0.777778</td>\n",
       "      <td>0.913043</td>\n",
       "      <td>0.840000</td>\n",
       "    </tr>\n",
       "    <tr>\n",
       "      <th>general disaster</th>\n",
       "      <td>0.836207</td>\n",
       "      <td>0.713235</td>\n",
       "      <td>0.769841</td>\n",
       "    </tr>\n",
       "    <tr>\n",
       "      <th>hail</th>\n",
       "      <td>0.965517</td>\n",
       "      <td>1.000000</td>\n",
       "      <td>0.982456</td>\n",
       "    </tr>\n",
       "    <tr>\n",
       "      <th>man-made disaster</th>\n",
       "      <td>0.784615</td>\n",
       "      <td>0.784615</td>\n",
       "      <td>0.784615</td>\n",
       "    </tr>\n",
       "    <tr>\n",
       "      <th>mass movement</th>\n",
       "      <td>1.000000</td>\n",
       "      <td>1.000000</td>\n",
       "      <td>1.000000</td>\n",
       "    </tr>\n",
       "    <tr>\n",
       "      <th>storm</th>\n",
       "      <td>0.864198</td>\n",
       "      <td>0.853659</td>\n",
       "      <td>0.858896</td>\n",
       "    </tr>\n",
       "    <tr>\n",
       "      <th>tsunami</th>\n",
       "      <td>0.750000</td>\n",
       "      <td>1.000000</td>\n",
       "      <td>0.857143</td>\n",
       "    </tr>\n",
       "    <tr>\n",
       "      <th>volcano</th>\n",
       "      <td>0.950000</td>\n",
       "      <td>0.904762</td>\n",
       "      <td>0.926829</td>\n",
       "    </tr>\n",
       "  </tbody>\n",
       "</table>\n",
       "</div>"
      ],
      "text/plain": [
       "                     precision    recall  f1-score\n",
       "accident              0.851852  0.878981  0.865204\n",
       "crime                 0.897959  0.916667  0.907216\n",
       "drought               0.925926  1.000000  0.961538\n",
       "earthquake            0.951220  1.000000  0.975000\n",
       "extreme temperature   0.966667  1.000000  0.983051\n",
       "famine                1.000000  1.000000  1.000000\n",
       "fire                  0.907895  0.958333  0.932432\n",
       "flood                 0.777778  0.913043  0.840000\n",
       "general disaster      0.836207  0.713235  0.769841\n",
       "hail                  0.965517  1.000000  0.982456\n",
       "man-made disaster     0.784615  0.784615  0.784615\n",
       "mass movement         1.000000  1.000000  1.000000\n",
       "storm                 0.864198  0.853659  0.858896\n",
       "tsunami               0.750000  1.000000  0.857143\n",
       "volcano               0.950000  0.904762  0.926829"
      ]
     },
     "execution_count": 30,
     "metadata": {},
     "output_type": "execute_result"
    }
   ],
   "source": [
    "report = classification_report(y2_test, y2_pred_svm, output_dict=True)\n",
    "\n",
    "dataset_report = pd.DataFrame(report).transpose()\n",
    "\n",
    "dataset_report = dataset_report.drop(index=[\"accuracy\", \"macro avg\", \"weighted avg\"])\n",
    "dataset_report = dataset_report.drop(columns=\"support\")\n",
    "\n",
    "dataset_report"
   ]
  },
  {
   "cell_type": "code",
   "execution_count": 31,
   "id": "e65bebd2",
   "metadata": {
    "scrolled": false
   },
   "outputs": [
    {
     "data": {
      "text/plain": [
       "<Axes: >"
      ]
     },
     "execution_count": 31,
     "metadata": {},
     "output_type": "execute_result"
    },
    {
     "data": {
      "image/png": "[encoded data removed]",
      "text/plain": [
       "<Figure size 640x480 with 2 Axes>"
      ]
     },
     "metadata": {},
     "output_type": "display_data"
    }
   ],
   "source": [
    "sns.heatmap(dataset_report)"
   ]
  },
  {
   "cell_type": "markdown",
   "id": "53bb0f36",
   "metadata": {},
   "source": [
    "## 4.2 Learning Curves"
   ]
  },
  {
   "cell_type": "code",
   "execution_count": 32,
   "id": "686a4c1d",
   "metadata": {},
   "outputs": [
    {
     "name": "stdout",
     "output_type": "stream",
     "text": [
      "Functions completed.\n"
     ]
    }
   ],
   "source": [
    "def plot_learning_curve(model):\n",
    "    train_sizes, train_scores, test_scores = learning_curve(model, X2, y2, cv=cv)\n",
    "    train_mean = np.mean(train_scores, axis=1)\n",
    "    train_std = np.std(train_scores, axis=1)\n",
    "    test_mean = np.mean(test_scores, axis=1)\n",
    "    test_std = np.std(test_scores, axis=1)\n",
    "    \n",
    "    plt.plot(train_sizes, train_mean, label=\"Training score\")\n",
    "    plt.plot(train_sizes, test_mean, label=\"Cross-validation score\")\n",
    "\n",
    "    plt.fill_between(train_sizes, train_mean - train_std, train_mean + train_std, color=\"#DDDDDD\")\n",
    "    plt.fill_between(train_sizes, test_mean - test_std, test_mean + test_std, color=\"#DDDDDD\")\n",
    "\n",
    "    plt.xlabel(\"Training Set Size\"), plt.ylabel(\"Accuracy Score\"), plt.legend(loc=\"best\")\n",
    "    \n",
    "print(\"Functions completed.\")"
   ]
  },
  {
   "cell_type": "code",
   "execution_count": 33,
   "id": "5e32606e",
   "metadata": {},
   "outputs": [
    {
     "data": {
      "image/png": "[encoded data removed]",
      "text/plain": [
       "<Figure size 640x480 with 1 Axes>"
      ]
     },
     "metadata": {},
     "output_type": "display_data"
    }
   ],
   "source": [
    "plot_learning_curve(nb2)\n",
    "plt.title(\"Learning Curve - Naive Bayes\")\n",
    "plt.show()"
   ]
  },
  {
   "cell_type": "code",
   "execution_count": 34,
   "id": "4ea1ba80",
   "metadata": {},
   "outputs": [
    {
     "data": {
      "image/png": "[encoded data removed]",
      "text/plain": [
       "<Figure size 640x480 with 1 Axes>"
      ]
     },
     "metadata": {},
     "output_type": "display_data"
    }
   ],
   "source": [
    "plot_learning_curve(svm2)\n",
    "plt.title(\"Learning Curve - Support Vector Machine\")\n",
    "plt.show()"
   ]
  },
  {
   "cell_type": "code",
   "execution_count": 35,
   "id": "aa314cdb",
   "metadata": {},
   "outputs": [
    {
     "data": {
      "image/png": "[encoded data removed]",
      "text/plain": [
       "<Figure size 640x480 with 1 Axes>"
      ]
     },
     "metadata": {},
     "output_type": "display_data"
    }
   ],
   "source": [
    "plot_learning_curve(lr2)\n",
    "plt.title(\"Learning Curve - Logistic Regression\")\n",
    "plt.show()"
   ]
  },
  {
   "cell_type": "markdown",
   "id": "fd7fe95f",
   "metadata": {},
   "source": [
    "# 5. Model Retrain"
   ]
  },
  {
   "cell_type": "markdown",
   "id": "18736099",
   "metadata": {},
   "source": [
    "## 5.1 Data Preprocessing"
   ]
  },
  {
   "cell_type": "code",
   "execution_count": 36,
   "id": "2e102f5f",
   "metadata": {},
   "outputs": [
    {
     "data": {
      "text/html": [
       "<div>\n",
       "<style scoped>\n",
       "    .dataframe tbody tr th:only-of-type {\n",
       "        vertical-align: middle;\n",
       "    }\n",
       "\n",
       "    .dataframe tbody tr th {\n",
       "        vertical-align: top;\n",
       "    }\n",
       "\n",
       "    .dataframe thead th {\n",
       "        text-align: right;\n",
       "    }\n",
       "</style>\n",
       "<table border=\"1\" class=\"dataframe\">\n",
       "  <thead>\n",
       "    <tr style=\"text-align: right;\">\n",
       "      <th></th>\n",
       "      <th>id</th>\n",
       "      <th>keyword</th>\n",
       "      <th>location</th>\n",
       "      <th>text</th>\n",
       "      <th>target</th>\n",
       "    </tr>\n",
       "  </thead>\n",
       "  <tbody>\n",
       "    <tr>\n",
       "      <th>0</th>\n",
       "      <td>0</td>\n",
       "      <td>ablaze</td>\n",
       "      <td>NaN</td>\n",
       "      <td>Communal violence in Bhainsa, Telangana. \"Ston...</td>\n",
       "      <td>1</td>\n",
       "    </tr>\n",
       "    <tr>\n",
       "      <th>1</th>\n",
       "      <td>1</td>\n",
       "      <td>ablaze</td>\n",
       "      <td>NaN</td>\n",
       "      <td>Telangana: Section 144 has been imposed in Bha...</td>\n",
       "      <td>1</td>\n",
       "    </tr>\n",
       "    <tr>\n",
       "      <th>2</th>\n",
       "      <td>2</td>\n",
       "      <td>ablaze</td>\n",
       "      <td>New York City</td>\n",
       "      <td>Arsonist sets cars ablaze at dealership https:...</td>\n",
       "      <td>1</td>\n",
       "    </tr>\n",
       "    <tr>\n",
       "      <th>3</th>\n",
       "      <td>3</td>\n",
       "      <td>ablaze</td>\n",
       "      <td>Morgantown, WV</td>\n",
       "      <td>Arsonist sets cars ablaze at dealership https:...</td>\n",
       "      <td>1</td>\n",
       "    </tr>\n",
       "    <tr>\n",
       "      <th>4</th>\n",
       "      <td>4</td>\n",
       "      <td>ablaze</td>\n",
       "      <td>NaN</td>\n",
       "      <td>\"Lord Jesus, your love brings freedom and pard...</td>\n",
       "      <td>0</td>\n",
       "    </tr>\n",
       "    <tr>\n",
       "      <th>...</th>\n",
       "      <td>...</td>\n",
       "      <td>...</td>\n",
       "      <td>...</td>\n",
       "      <td>...</td>\n",
       "      <td>...</td>\n",
       "    </tr>\n",
       "    <tr>\n",
       "      <th>11365</th>\n",
       "      <td>11365</td>\n",
       "      <td>wrecked</td>\n",
       "      <td>Blue State in a red sea</td>\n",
       "      <td>Media should have warned us well in advance. T...</td>\n",
       "      <td>0</td>\n",
       "    </tr>\n",
       "    <tr>\n",
       "      <th>11366</th>\n",
       "      <td>11366</td>\n",
       "      <td>wrecked</td>\n",
       "      <td>arohaonces</td>\n",
       "      <td>i feel directly attacked 💀 i consider moonbin ...</td>\n",
       "      <td>0</td>\n",
       "    </tr>\n",
       "    <tr>\n",
       "      <th>11367</th>\n",
       "      <td>11367</td>\n",
       "      <td>wrecked</td>\n",
       "      <td>🇵🇭</td>\n",
       "      <td>i feel directly attacked 💀 i consider moonbin ...</td>\n",
       "      <td>0</td>\n",
       "    </tr>\n",
       "    <tr>\n",
       "      <th>11368</th>\n",
       "      <td>11368</td>\n",
       "      <td>wrecked</td>\n",
       "      <td>auroraborealis</td>\n",
       "      <td>ok who remember \"outcast\" nd the \"dora\" au?? T...</td>\n",
       "      <td>0</td>\n",
       "    </tr>\n",
       "    <tr>\n",
       "      <th>11369</th>\n",
       "      <td>11369</td>\n",
       "      <td>wrecked</td>\n",
       "      <td>NaN</td>\n",
       "      <td>Jake Corway wrecked while running 14th at IRP.</td>\n",
       "      <td>1</td>\n",
       "    </tr>\n",
       "  </tbody>\n",
       "</table>\n",
       "<p>11370 rows × 5 columns</p>\n",
       "</div>"
      ],
      "text/plain": [
       "          id  keyword                 location  \\\n",
       "0          0   ablaze                      NaN   \n",
       "1          1   ablaze                      NaN   \n",
       "2          2   ablaze            New York City   \n",
       "3          3   ablaze           Morgantown, WV   \n",
       "4          4   ablaze                      NaN   \n",
       "...      ...      ...                      ...   \n",
       "11365  11365  wrecked  Blue State in a red sea   \n",
       "11366  11366  wrecked               arohaonces   \n",
       "11367  11367  wrecked                       🇵🇭   \n",
       "11368  11368  wrecked           auroraborealis   \n",
       "11369  11369  wrecked                      NaN   \n",
       "\n",
       "                                                    text  target  \n",
       "0      Communal violence in Bhainsa, Telangana. \"Ston...       1  \n",
       "1      Telangana: Section 144 has been imposed in Bha...       1  \n",
       "2      Arsonist sets cars ablaze at dealership https:...       1  \n",
       "3      Arsonist sets cars ablaze at dealership https:...       1  \n",
       "4      \"Lord Jesus, your love brings freedom and pard...       0  \n",
       "...                                                  ...     ...  \n",
       "11365  Media should have warned us well in advance. T...       0  \n",
       "11366  i feel directly attacked 💀 i consider moonbin ...       0  \n",
       "11367  i feel directly attacked 💀 i consider moonbin ...       0  \n",
       "11368  ok who remember \"outcast\" nd the \"dora\" au?? T...       0  \n",
       "11369     Jake Corway wrecked while running 14th at IRP.       1  \n",
       "\n",
       "[11370 rows x 5 columns]"
      ]
     },
     "execution_count": 36,
     "metadata": {},
     "output_type": "execute_result"
    }
   ],
   "source": [
    "dataset_new = pd.read_csv('additional-tweets.csv', index_col=False, header=0)\n",
    "\n",
    "dataset_new"
   ]
  },
  {
   "cell_type": "code",
   "execution_count": 37,
   "id": "379ce079",
   "metadata": {},
   "outputs": [
    {
     "name": "stdout",
     "output_type": "stream",
     "text": [
      "general disaster       3975\n",
      "accident               2129\n",
      "man-made disaster      1544\n",
      "crime                  1245\n",
      "storm                   807\n",
      "fire                    765\n",
      "flood                   238\n",
      "earthquake              196\n",
      "mass movement           189\n",
      "volcano                  73\n",
      "drought                  62\n",
      "extreme temperature      51\n",
      "hail                     49\n",
      "famine                   41\n",
      "tsunami                   6\n",
      "Name: disaster_type, dtype: int64\n"
     ]
    }
   ],
   "source": [
    "cleaned_text = []\n",
    "for text in dataset_new[\"text\"]:\n",
    "    text_1 = clean_text(text)\n",
    "    text_2 = lemmatize_word(text_1)\n",
    "    cleaned_text.append(text_2)   \n",
    "dataset_new[\"cleaned_text\"] = cleaned_text\n",
    "\n",
    "is_disaster = []\n",
    "for value in dataset_new[\"target\"]:\n",
    "    if value == 1:\n",
    "        is_disaster.append(\"True\")\n",
    "    elif value == 0:\n",
    "        is_disaster.append(\"False\")\n",
    "    else:\n",
    "        is_disaster.append(\"Not Sure\")       \n",
    "dataset_new[\"is_disaster\"] = is_disaster\n",
    "\n",
    "dataset_new[\"keyword\"] = dataset_new[\"keyword\"].str.replace(\"%20\", \" \")\n",
    "dataset_new[\"disaster_type\"] = dataset_new[\"keyword\"].replace(dataset_disaster[\"keyword\"].to_list(), dataset_disaster[\"disaster_type\"].to_list())\n",
    "\n",
    "print(dataset_new[\"disaster_type\"].value_counts())"
   ]
  },
  {
   "cell_type": "code",
   "execution_count": 38,
   "id": "287db091",
   "metadata": {},
   "outputs": [
    {
     "name": "stdout",
     "output_type": "stream",
     "text": [
      "general disaster       3975\n",
      "accident               2129\n",
      "man-made disaster      1544\n",
      "crime                  1245\n",
      "storm                   807\n",
      "fire                    765\n",
      "volcano                 365\n",
      "drought                 310\n",
      "extreme temperature     255\n",
      "hail                    245\n",
      "flood                   238\n",
      "famine                  205\n",
      "earthquake              196\n",
      "mass movement           189\n",
      "tsunami                  30\n",
      "Name: disaster_type, dtype: int64\n"
     ]
    }
   ],
   "source": [
    "disaster_list_2 = [\"tsunami\", \"famine\", \"hail\", \"extreme temperature\", \"drought\", \"volcano\"]\n",
    "\n",
    "augmented_dataset_new = data_augment(dataset_new, disaster_list_2)\n",
    "\n",
    "dataset_new = pd.concat([dataset_new, augmented_dataset_new])\n",
    "\n",
    "print(dataset_new[\"disaster_type\"].value_counts())"
   ]
  },
  {
   "cell_type": "code",
   "execution_count": 39,
   "id": "a7ee68fa",
   "metadata": {},
   "outputs": [
    {
     "name": "stdout",
     "output_type": "stream",
     "text": [
      "general disaster       1653\n",
      "accident                927\n",
      "volcano                 625\n",
      "man-made disaster       619\n",
      "mass movement           619\n",
      "earthquake              611\n",
      "crime                   510\n",
      "storm                   427\n",
      "drought                 420\n",
      "fire                    401\n",
      "hail                    380\n",
      "flood                   366\n",
      "extreme temperature     360\n",
      "famine                  300\n",
      "tsunami                 120\n",
      "Name: disaster_type, dtype: int64\n"
     ]
    },
    {
     "name": "stderr",
     "output_type": "stream",
     "text": [
      "/var/folders/5r/qt94qlfj34x9zlq_chxsrm5w0000gn/T/ipykernel_12276/3434318053.py:6: FutureWarning: The frame.append method is deprecated and will be removed from pandas in a future version. Use pandas.concat instead.\n",
      "  final_dataset = dataset_final.append(dataset_new_final)\n"
     ]
    }
   ],
   "source": [
    "dataset_new = dataset_new[dataset_new[\"disaster_type\"].isin(\n",
    "    [\"tsunami\", \"mass movement\", \"earthquake\", \"famine\", \"flood\", \"hail\", \"extreme temperature\", \"drought\", \"volcano\"])]\n",
    "\n",
    "dataset_new_final = dataset_new[[\"cleaned_text\", \"is_disaster\", \"disaster_type\"]]\n",
    "\n",
    "final_dataset = dataset_final.append(dataset_new_final)\n",
    "\n",
    "print(final_dataset[\"disaster_type\"].value_counts())"
   ]
  },
  {
   "cell_type": "code",
   "execution_count": 40,
   "id": "28ec4701",
   "metadata": {},
   "outputs": [
    {
     "name": "stdout",
     "output_type": "stream",
     "text": [
      "general disaster       1653\n",
      "accident                927\n",
      "volcano                 625\n",
      "man-made disaster       619\n",
      "mass movement           619\n",
      "earthquake              611\n",
      "crime                   510\n",
      "storm                   427\n",
      "drought                 420\n",
      "fire                    401\n",
      "hail                    380\n",
      "flood                   366\n",
      "extreme temperature     360\n",
      "famine                  300\n",
      "tsunami                 120\n",
      "Name: disaster_type, dtype: int64\n"
     ]
    }
   ],
   "source": [
    "dataset_new = dataset_new[dataset_new[\"disaster_type\"].isin(\n",
    "    [\"tsunami\", \"mass movement\", \"earthquake\", \"famine\", \"flood\", \"hail\", \"extreme temperature\", \"drought\", \"volcano\"])]\n",
    "\n",
    "dataset_new_final = dataset_new[[\"cleaned_text\", \"is_disaster\", \"disaster_type\"]]\n",
    "\n",
    "final_dataset = pd.concat([dataset_final, dataset_new_final])\n",
    "\n",
    "print(final_dataset[\"disaster_type\"].value_counts())"
   ]
  },
  {
   "cell_type": "code",
   "execution_count": 41,
   "id": "e40e1fd7",
   "metadata": {},
   "outputs": [
    {
     "data": {
      "text/html": [
       "<div>\n",
       "<style scoped>\n",
       "    .dataframe tbody tr th:only-of-type {\n",
       "        vertical-align: middle;\n",
       "    }\n",
       "\n",
       "    .dataframe tbody tr th {\n",
       "        vertical-align: top;\n",
       "    }\n",
       "\n",
       "    .dataframe thead th {\n",
       "        text-align: right;\n",
       "    }\n",
       "</style>\n",
       "<table border=\"1\" class=\"dataframe\">\n",
       "  <thead>\n",
       "    <tr style=\"text-align: right;\">\n",
       "      <th></th>\n",
       "      <th>cleaned_text</th>\n",
       "      <th>is_disaster</th>\n",
       "      <th>disaster_type</th>\n",
       "    </tr>\n",
       "  </thead>\n",
       "  <tbody>\n",
       "    <tr>\n",
       "      <th>46</th>\n",
       "      <td>birmingham wholesale market be ablaze bbc news...</td>\n",
       "      <td>True</td>\n",
       "      <td>fire</td>\n",
       "    </tr>\n",
       "    <tr>\n",
       "      <th>47</th>\n",
       "      <td>sunkxssedharry will you wear short for race ab...</td>\n",
       "      <td>False</td>\n",
       "      <td>fire</td>\n",
       "    </tr>\n",
       "    <tr>\n",
       "      <th>49</th>\n",
       "      <td>we always try to bring the heavy metal rt http...</td>\n",
       "      <td>False</td>\n",
       "      <td>fire</td>\n",
       "    </tr>\n",
       "    <tr>\n",
       "      <th>51</th>\n",
       "      <td>previouslyondoyintv toke makinwaûªs marriage c...</td>\n",
       "      <td>False</td>\n",
       "      <td>fire</td>\n",
       "    </tr>\n",
       "    <tr>\n",
       "      <th>52</th>\n",
       "      <td>cry out for more set me ablaze</td>\n",
       "      <td>False</td>\n",
       "      <td>fire</td>\n",
       "    </tr>\n",
       "    <tr>\n",
       "      <th>...</th>\n",
       "      <td>...</td>\n",
       "      <td>...</td>\n",
       "      <td>...</td>\n",
       "    </tr>\n",
       "    <tr>\n",
       "      <th>3</th>\n",
       "      <td>philippine islands taal volcano eruption phili...</td>\n",
       "      <td>True</td>\n",
       "      <td>volcano</td>\n",
       "    </tr>\n",
       "    <tr>\n",
       "      <th>0</th>\n",
       "      <td>mayward batangas be organize a be a bless proj...</td>\n",
       "      <td>True</td>\n",
       "      <td>volcano</td>\n",
       "    </tr>\n",
       "    <tr>\n",
       "      <th>1</th>\n",
       "      <td>mayward batangas be organize a be a bless proj...</td>\n",
       "      <td>True</td>\n",
       "      <td>volcano</td>\n",
       "    </tr>\n",
       "    <tr>\n",
       "      <th>2</th>\n",
       "      <td>mayward batangas be organize a be taal bless p...</td>\n",
       "      <td>True</td>\n",
       "      <td>volcano</td>\n",
       "    </tr>\n",
       "    <tr>\n",
       "      <th>3</th>\n",
       "      <td>mayward batangas orchestrate be organize a be ...</td>\n",
       "      <td>True</td>\n",
       "      <td>volcano</td>\n",
       "    </tr>\n",
       "  </tbody>\n",
       "</table>\n",
       "<p>8338 rows × 3 columns</p>\n",
       "</div>"
      ],
      "text/plain": [
       "                                         cleaned_text is_disaster  \\\n",
       "46  birmingham wholesale market be ablaze bbc news...        True   \n",
       "47  sunkxssedharry will you wear short for race ab...       False   \n",
       "49  we always try to bring the heavy metal rt http...       False   \n",
       "51  previouslyondoyintv toke makinwaûªs marriage c...       False   \n",
       "52                    cry out for more set me ablaze        False   \n",
       "..                                                ...         ...   \n",
       "3   philippine islands taal volcano eruption phili...        True   \n",
       "0   mayward batangas be organize a be a bless proj...        True   \n",
       "1   mayward batangas be organize a be a bless proj...        True   \n",
       "2   mayward batangas be organize a be taal bless p...        True   \n",
       "3   mayward batangas orchestrate be organize a be ...        True   \n",
       "\n",
       "   disaster_type  \n",
       "46          fire  \n",
       "47          fire  \n",
       "49          fire  \n",
       "51          fire  \n",
       "52          fire  \n",
       "..           ...  \n",
       "3        volcano  \n",
       "0        volcano  \n",
       "1        volcano  \n",
       "2        volcano  \n",
       "3        volcano  \n",
       "\n",
       "[8338 rows x 3 columns]"
      ]
     },
     "execution_count": 41,
     "metadata": {},
     "output_type": "execute_result"
    }
   ],
   "source": [
    "final_dataset"
   ]
  },
  {
   "cell_type": "markdown",
   "id": "a830ba8b",
   "metadata": {},
   "source": [
    "## 5.2 Model Training"
   ]
  },
  {
   "cell_type": "code",
   "execution_count": 42,
   "id": "c4f6251b",
   "metadata": {},
   "outputs": [
    {
     "name": "stdout",
     "output_type": "stream",
     "text": [
      "Train and test sets for Model 1 are splited.\n",
      "Train and test sets for Model 2 are splited.\n"
     ]
    }
   ],
   "source": [
    "X1 = final_dataset.cleaned_text\n",
    "y1 = final_dataset.is_disaster\n",
    "X1_train, X1_test, y1_train, y1_test = train_test_split(X1, y1, test_size=0.3, random_state=0)\n",
    "\n",
    "print(\"Train and test sets for Model 1 are splited.\")\n",
    "\n",
    "X2 = final_dataset[final_dataset[\"is_disaster\"] == \"True\"].cleaned_text\n",
    "y2 = final_dataset[final_dataset[\"is_disaster\"] == \"True\"].disaster_type\n",
    "X2_train, X2_test, y2_train, y2_test = train_test_split(X2, y2, test_size=0.3, random_state=0)\n",
    "\n",
    "print(\"Train and test sets for Model 2 are splited.\")"
   ]
  },
  {
   "cell_type": "code",
   "execution_count": 43,
   "id": "ee17f834",
   "metadata": {},
   "outputs": [
    {
     "name": "stdout",
     "output_type": "stream",
     "text": [
      "accuracy score: 0.8101135190918473\n",
      "cross validation score: 0.8354179566563467\n"
     ]
    }
   ],
   "source": [
    "# Naive Bayes\n",
    "\n",
    "nb2 = Pipeline([('vect', CountVectorizer()), ('clf', MultinomialNB())])\n",
    "\n",
    "nb2.fit(X2_train, y2_train)\n",
    "\n",
    "y2_pred = nb2.predict(X2_test)\n",
    "\n",
    "print('accuracy score:', accuracy_score(y2_pred, y2_test))\n",
    "\n",
    "cv = RepeatedStratifiedKFold(n_splits=5, n_repeats=5, random_state=0)\n",
    "print('cross validation score:', cross_val_score(nb2, X2, y2, cv=cv).mean())"
   ]
  },
  {
   "cell_type": "code",
   "execution_count": 44,
   "id": "3f3ab166",
   "metadata": {},
   "outputs": [
    {
     "name": "stdout",
     "output_type": "stream",
     "text": [
      "accuracy score: 0.8864809081527347\n",
      "cross validation score: 0.8986996904024768\n"
     ]
    }
   ],
   "source": [
    "# Support Vector Machine\n",
    "\n",
    "svm2 = Pipeline([('vect', CountVectorizer()), ('clf', LinearSVC())])\n",
    "\n",
    "svm2.fit(X2_train, y2_train)\n",
    "\n",
    "y2_pred = svm2.predict(X2_test)\n",
    "\n",
    "print('accuracy score:', accuracy_score(y2_pred, y2_test))\n",
    "\n",
    "cv = RepeatedStratifiedKFold(n_splits=5, n_repeats=5, random_state=0)\n",
    "print('cross validation score:', cross_val_score(svm2, X2, y2, cv=cv).mean())"
   ]
  },
  {
   "cell_type": "code",
   "execution_count": 45,
   "id": "2f4cae41",
   "metadata": {},
   "outputs": [
    {
     "data": {
      "image/png": "[encoded data removed]",
      "text/plain": [
       "<Figure size 640x480 with 1 Axes>"
      ]
     },
     "metadata": {},
     "output_type": "display_data"
    }
   ],
   "source": [
    "plot_learning_curve(nb2)\n",
    "plt.title(\"Learning Curve - Naive Bayes\")\n",
    "plt.show()"
   ]
  },
  {
   "cell_type": "code",
   "execution_count": null,
   "id": "0912abc4",
   "metadata": {},
   "outputs": [],
   "source": [
    "plot_learning_curve(svm2)\n",
    "plt.title(\"Learning Curve - Support Vector Machine\")\n",
    "plt.show()"
   ]
  },
  {
   "cell_type": "code",
   "execution_count": null,
   "id": "f0ef2b22",
   "metadata": {},
   "outputs": [],
   "source": []
  }
 ],
 "metadata": {
  "kernelspec": {
   "display_name": "Python 3 (ipykernel)",
   "language": "python",
   "name": "python3"
  },
  "language_info": {
   "codemirror_mode": {
    "name": "ipython",
    "version": 3
   },
   "file_extension": ".py",
   "mimetype": "text/x-python",
   "name": "python",
   "nbconvert_exporter": "python",
   "pygments_lexer": "ipython3",
   "version": "3.11.3"
  }
 },
 "nbformat": 4,
 "nbformat_minor": 5
}
